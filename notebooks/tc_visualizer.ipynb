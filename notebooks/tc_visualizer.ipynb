{
 "cells": [
  {
   "cell_type": "code",
   "execution_count": 1,
   "metadata": {
    "ExecuteTime": {
     "end_time": "2021-05-28T12:32:15.594025Z",
     "start_time": "2021-05-28T12:32:15.580598Z"
    }
   },
   "outputs": [],
   "source": [
    "%load_ext autoreload\n",
    "%autoreload 2"
   ]
  },
  {
   "cell_type": "code",
   "execution_count": 2,
   "metadata": {
    "ExecuteTime": {
     "end_time": "2021-05-28T12:32:16.001946Z",
     "start_time": "2021-05-28T12:32:15.595150Z"
    }
   },
   "outputs": [],
   "source": [
    "%matplotlib inline"
   ]
  },
  {
   "cell_type": "code",
   "execution_count": 3,
   "metadata": {
    "ExecuteTime": {
     "end_time": "2021-05-28T12:32:16.899089Z",
     "start_time": "2021-05-28T12:32:16.004351Z"
    },
    "tags": []
   },
   "outputs": [
    {
     "name": "stdout",
     "output_type": "stream",
     "text": [
      "/home/naodell/work/hgcal/ECONAutoencoderStudy\n"
     ]
    }
   ],
   "source": [
    "import os\n",
    "import pickle\n",
    "from glob import glob\n",
    "\n",
    "import pandas as pd\n",
    "import numpy as np\n",
    "import matplotlib\n",
    "from matplotlib import pyplot as plt\n",
    "from tqdm.notebook import tqdm\n",
    "\n",
    "#from scipy.optimize import lsq_linear\n",
    "#from sklearn.linear_model import LinearRegression\n",
    "\n",
    "matplotlib.rcParams.update({'font.size': 18, 'figure.facecolor':'white', 'figure.figsize':(8, 8)})\n",
    "\n",
    "%cd /home/naodell/work/hgcal/ECONAutoencoderStudy"
   ]
  },
  {
   "cell_type": "code",
   "execution_count": 4,
   "metadata": {
    "tags": []
   },
   "outputs": [
    {
     "ename": "KeyError",
     "evalue": "'Threshold0'",
     "output_type": "error",
     "traceback": [
      "\u001b[0;31m---------------------------------------------------------------------------\u001b[0m",
      "\u001b[0;31mKeyError\u001b[0m                                  Traceback (most recent call last)",
      "Input \u001b[0;32mIn [4]\u001b[0m, in \u001b[0;36m<module>\u001b[0;34m\u001b[0m\n\u001b[1;32m      4\u001b[0m df_tc \u001b[38;5;241m=\u001b[39m data_dict[\u001b[38;5;124m'\u001b[39m\u001b[38;5;124mtc\u001b[39m\u001b[38;5;124m'\u001b[39m]\n\u001b[1;32m      5\u001b[0m df_gen \u001b[38;5;241m=\u001b[39m data_dict[\u001b[38;5;124m'\u001b[39m\u001b[38;5;124mgen\u001b[39m\u001b[38;5;124m'\u001b[39m]\n\u001b[0;32m----> 6\u001b[0m df_clusters \u001b[38;5;241m=\u001b[39m \u001b[43mdata_dict\u001b[49m\u001b[43m[\u001b[49m\u001b[38;5;124;43m'\u001b[39;49m\u001b[38;5;124;43mThreshold0\u001b[39;49m\u001b[38;5;124;43m'\u001b[39;49m\u001b[43m]\u001b[49m\n",
      "\u001b[0;31mKeyError\u001b[0m: 'Threshold0'"
     ]
    }
   ],
   "source": [
    "# get the data\n",
    "input_file = open('data/output_0.pkl', 'rb')\n",
    "data_dict = pickle.load(input_file)\n",
    "df_tc = data_dict['tc']\n",
    "df_gen = data_dict['gen']\n",
    "df_clusters = data_dict['Threshold0']\n"
   ]
  },
  {
   "cell_type": "code",
   "execution_count": null,
   "metadata": {
    "tags": []
   },
   "outputs": [],
   "source": [
    "# make some basic plots\n",
    "fig, axes = plt.subplots(1, 2, facecolor='white', figsize=(16, 8))\n",
    "\n",
    "cuts = 'tc_z > 0 and tc_x < 0. and tc_y < 0. and tc_subdet == 1 and tc_layer == 9'\n",
    "event_ix = df_tc.index[0][0]\n",
    "event_tc = df_tc.query(cuts)\n",
    "event_cluster = df_clusters.loc[event_ix]\n",
    "event_gen = df_gen.loc[event_ix]\n",
    "\n",
    "ax = axes[0]\n",
    "ax.scatter(event_tc.tc_x, event_tc.tc_y, s=event_tc.tc_energy, c=np.log(event_tc.tc_energy))\n",
    "ax.set_xlim(-120, 0)\n",
    "ax.set_ylim(-120, 0)\n",
    "ax.set_xlabel('X [cm]')\n",
    "ax.set_ylabel('Y [cm]')\n",
    "\n",
    "\n",
    "#x, y = np.linspace(-100, 100, 50), np.linspace(-100, 100, 50)\n",
    "#X, Y = np.mgrid[-100:100:5, -100:100:5]\n",
    "#ax.scatter(X, Y, marker='h', s=70, alpha=0.5)\n",
    "\n",
    "ax = axes[1]\n",
    "ax.scatter(event_tc.tc_z, event_tc.tc_y, s=event_tc.tc_energy, c=np.log(event_tc.tc_energy))\n",
    "ax.set_xlim(330, 340)\n",
    "ax.set_ylim(-120, 0)\n",
    "ax.set_xlabel('Z [cm]')\n",
    "ax.set_ylabel('Y [cm]')\n",
    "\n",
    "plt.show()"
   ]
  },
  {
   "cell_type": "code",
   "execution_count": null,
   "metadata": {
    "tags": []
   },
   "outputs": [],
   "source": [
    "# make some basic plots\n",
    "fig, axes = plt.subplots(1, 2, facecolor='white', figsize=(16, 8))\n",
    "\n",
    "ax = axes[0]\n",
    "ax.hist(event_tc.query('tc_simenergy > 0.1').tc_simenergy, bins=40)\n",
    "ax.set_yscale('log')\n",
    "#ax.set_xlim(320, 365)\n",
    "\n",
    "ax = axes[1]\n",
    "#ax.hist(\n",
    "\n",
    "plt.show()"
   ]
  },
  {
   "cell_type": "code",
   "execution_count": null,
   "metadata": {},
   "outputs": [],
   "source": [
    "from matplotlib.patches import RegularPolygon, Circle\n",
    "from itertools import product\n",
    "cmap = matplotlib.cm.get_cmap('Reds')\n",
    "\n",
    "\n",
    "#cuts = 'tc_z > 0 and tc_x < 0. and tc_y < 0. and tc_subdet == 1 and tc_layer == 9'\n",
    "cuts = 'tc_z < 0 and tc_subdet == 1 and tc_layer == 11 and tc_energy > 0.1'\n",
    "df_tc['count'] = 1\n",
    "df_cut = df_tc.query(cuts)\n",
    "events = df_cut.index.get_level_values(0).unique()\n",
    "event_ix = events[10]\n",
    "event_tc = df_cut#.loc[event_ix]\n",
    "#event_cluster = df_clusters.loc[event_ix]\n",
    "#event_gen = df_gen.loc[event_ix]\n",
    "\n",
    "group_wafer = event_tc.groupby(['tc_waferu', 'tc_waferv'])\n",
    "wafer_sums = group_wafer.sum()\n",
    "\n",
    "# draw each module \n",
    "u = np.arange(-13, 14)\n",
    "coord = np.array(list(product(u, u)))\n",
    "#coord = [(0, 0), (0, 1), (1, 0), (0, -1), (-1, 0), (0, 1), (1, 1), (-1, -1), (0, -1)]\n",
    "\n",
    "# Horizontal cartesian coords\n",
    "angle = np.pi/6\n",
    "hex_radius = 0.95*8*2.54/2\n",
    "d = 2*hex_radius*np.cos(angle)\n",
    "#trans_matrix = np.array([[1., np.sin(angle)], [0., np.sin(np.pi/2 - angle)]])\n",
    "xcoord = [d*(c[0] - c[1]*np.sin(angle)) for c in coord]\n",
    "ycoord = [d*c[1]*np.sin(np.pi/2 - angle) for c in coord]\n",
    "\n",
    "fig, ax = plt.subplots(1, figsize=(16, 16))\n",
    "ax.set_aspect('equal')\n",
    "\n",
    "# draw hexegonal grid\n",
    "inner_radius = 0.82*32.8\n",
    "outer_radius = 160\n",
    "energy_max = wafer_sums['tc_energy'].max()\n",
    "for x, y, u, v in zip(xcoord, ycoord, coord.T[0], coord.T[1]):\n",
    "    #color = c[0].lower()  # matplotlib understands lower case words for colours\n",
    "    r = np.sqrt(x**2 + y**2)\n",
    "    if r < inner_radius or r > outer_radius:\n",
    "        continue\n",
    "        \n",
    "    if (u, v) in wafer_sums.index:\n",
    "        color = cmap(wafer_sums.loc[(u, v), 'tc_energy']/energy_max)\n",
    "        alpha = 0.75\n",
    "    else:\n",
    "        color = 'C0'\n",
    "        alpha = 0.05\n",
    "        \n",
    "    poly = RegularPolygon((x, y), \n",
    "                         numVertices=6, \n",
    "                         radius=hex_radius, \n",
    "                         orientation=np.radians(0), \n",
    "                         facecolor=color, \n",
    "                         alpha=alpha, \n",
    "                         edgecolor='k',\n",
    "                         zorder=1\n",
    "                        )\n",
    "    ax.add_patch(poly)\n",
    "    \n",
    "    # Add text labels\n",
    "    if color != 'C0':\n",
    "        ax.text(x, y+0.2, f'({u}, {v})', ha='center', va='center', size=10)\n",
    "    \n",
    "# inner hexagon\n",
    "inner_circle = Circle((0, 0), \n",
    "                     radius=inner_radius,\n",
    "                     facecolor='none', \n",
    "                     alpha=0.5, \n",
    "                     linestyle='--',\n",
    "                     edgecolor='r'\n",
    "                     )\n",
    "ax.add_patch(inner_circle)\n",
    "\n",
    "poly = RegularPolygon((0, 0), \n",
    "                     numVertices=6, \n",
    "                     radius=inner_radius/np.cos(angle), \n",
    "                     orientation=np.radians(0), \n",
    "                     facecolor='none', \n",
    "                     alpha=0.5, \n",
    "                     linestyle='--',\n",
    "                     edgecolor='r'\n",
    "                    )\n",
    "ax.add_patch(poly)\n",
    "\n",
    "# outer hexagon\n",
    "outer_circle = Circle((0, 0), \n",
    "                     radius=160, \n",
    "                     facecolor='none', \n",
    "                     alpha=0.5, \n",
    "                     linestyle='--',\n",
    "                     edgecolor='r'\n",
    "                     )\n",
    "ax.add_patch(outer_circle)\n",
    "\n",
    "poly = RegularPolygon((0, 0), \n",
    "                     numVertices=6, \n",
    "                     radius=160, \n",
    "                     orientation=np.radians(30), \n",
    "                     facecolor='none', \n",
    "                     alpha=0.5, \n",
    "                     edgecolor='r'\n",
    "                    )\n",
    "\n",
    "# draw lines every pi/3 radians\n",
    "for angle in np.arange(0, 360, 60):\n",
    "    rad = (angle/180)*np.pi\n",
    "    plt.plot([0., 200*np.cos(rad)], [0., 200*np.sin(rad)], 'r--', linewidth=0.5, alpha=0.5)\n",
    "              \n",
    "#ax.add_patch(poly)\n",
    "marker_size = 100. / (1 + np.exp(-event_tc.tc_energy/10))\n",
    "scat = ax.scatter(event_tc.tc_x, event_tc.tc_y, \n",
    "                  marker='H', \n",
    "                  s=10, #marker_size, \n",
    "                  c=event_tc.tc_energy,\n",
    "                  zorder=2\n",
    "                 )\n",
    "#ax.set_xlim(-80, -20)\n",
    "#ax.set_ylim(-50, 20)\n",
    "ax.set_xlim(-170, 170)\n",
    "ax.set_ylim(-170, 170)\n",
    "ax.set_xlabel('X [cm]')\n",
    "ax.set_ylabel('Y [cm]')\n",
    "\n",
    "cbar = plt.colorbar(scat)\n",
    "cbar.set_label('trigger cell energy [GeV]')\n",
    "\n",
    "plt.show()"
   ]
  },
  {
   "cell_type": "code",
   "execution_count": null,
   "metadata": {},
   "outputs": [],
   "source": []
  }
 ],
 "metadata": {
  "kernelspec": {
   "display_name": "Python 3",
   "language": "python",
   "name": "python3"
  },
  "language_info": {
   "codemirror_mode": {
    "name": "ipython",
    "version": 3
   },
   "file_extension": ".py",
   "mimetype": "text/x-python",
   "name": "python",
   "nbconvert_exporter": "python",
   "pygments_lexer": "ipython3",
   "version": "3.8.11"
  },
  "toc": {
   "base_numbering": 1,
   "nav_menu": {},
   "number_sections": true,
   "sideBar": true,
   "skip_h1_title": false,
   "title_cell": "Table of Contents",
   "title_sidebar": "Contents",
   "toc_cell": false,
   "toc_position": {},
   "toc_section_display": true,
   "toc_window_display": false
  }
 },
 "nbformat": 4,
 "nbformat_minor": 4
}
